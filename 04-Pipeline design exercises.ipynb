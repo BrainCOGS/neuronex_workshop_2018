{
 "cells": [
  {
   "cell_type": "markdown",
   "metadata": {},
   "source": [
    "# Pipeline design exercise"
   ]
  },
  {
   "cell_type": "markdown",
   "metadata": {},
   "source": [
    "Welcome to Day 2 of DataJoint Workshop! In this session, you will work in a team to horn in your skills for pipeline design by designing and building a data pipeine to satisfy a real-life experimental project requirements!"
   ]
  },
  {
   "cell_type": "markdown",
   "metadata": {},
   "source": [
    "# Task"
   ]
  },
  {
   "cell_type": "markdown",
   "metadata": {},
   "source": [
    "Read the project scenario below carefully. You are given relevant entities for this experiment and attributes that you would want to keep track for each entity.\n",
    "\n",
    "Your team's task is to design a data pipeline, complete with table definitions in DataJoint to hold all the entities for the project.\n",
    "\n",
    "When you design your data pipeline, be sure to think about the following questions!\n",
    "* Which attributes should be in the primary key?\n",
    "* What's the dependency between the entities?\n",
    "* What should be the tier of the table?\n",
    "    * If `Imported` or `Computed`, what kind of processing should occur in `make`? (You don't have to implement it)\n"
   ]
  },
  {
   "cell_type": "markdown",
   "metadata": {},
   "source": [
    "## Submission"
   ]
  },
  {
   "cell_type": "markdown",
   "metadata": {},
   "source": [
    "Have one person from your team submit a Jupyter notebook containing all the table class definitions into the `public` folder found at the top of the Jupyter Hub environment."
   ]
  },
  {
   "cell_type": "markdown",
   "metadata": {},
   "source": [
    "# Project scenario"
   ]
  },
  {
   "cell_type": "markdown",
   "metadata": {},
   "source": [
    "The Gonzales lab is studying the behavior of different kinds of cells in two midbrain nuclei by slice physiology (patching) and subsequent morphological characterization of different cell types. Slices for patching are cut from juvenile or adult mice, and single or multiple intracellular membrane potential traces are recorded in a special bath media. Previous studies have shown that in some cells in these midbrain nuclei, this media elicits low tonic spontaneous activity and in other cells it cause vigorous phasic bursting. After patching is completed, the slices are fixed and images of each of the slices are collected. Patched cells are identified and manually segmented, and from this manual segmentation the size of the soma is computed. An automated algorithm processes all the ephys traces and classifies cells as “bursting” or “tonic”."
   ]
  },
  {
   "cell_type": "markdown",
   "metadata": {},
   "source": [
    "## Hypothesis"
   ]
  },
  {
   "cell_type": "markdown",
   "metadata": {},
   "source": [
    "The hypothesis is that in juvenile mice,bursting cells and tonic cells in both nuclei A and B have different somatic sizes, but that in adult mice, somatic size is uniform across nuclei and cell types."
   ]
  },
  {
   "cell_type": "markdown",
   "metadata": {},
   "source": [
    "## Entities and attributes"
   ]
  },
  {
   "cell_type": "markdown",
   "metadata": {},
   "source": [
    "Mouse\n",
    "* Mouse ID\n",
    "* Mouse Sex\n",
    "* Mouse DOB\n",
    "\n",
    "Slice\n",
    "* Mouse ID\n",
    "* Slice number\n",
    "* Slice date\n",
    "* Slice location (Anterior/Posterior)\n",
    "\n",
    "PatchedCell\n",
    "* Mouse ID\n",
    "* Slice number\n",
    "* Cell index\n",
    "* Cell location (“Nucleus A”, “Nucleus B”, “Unknown”)\n",
    "* Time elapsed between slicing and recording\n",
    "* FIlename of recording\n",
    "\n",
    "EphysTrace\n",
    "* Mouse ID\n",
    "* Slice number\n",
    "* Cell index\n",
    "* Recording index\n",
    "* Trace length\n",
    "* Trace scale \n",
    "* Raw Trace\n",
    "\n",
    "SliceImage\n",
    "* Mouse ID\n",
    "* Slice number\n",
    "* Image index\n",
    "* Pixel dimensions\n",
    "* Physical dimensions (microns)\n",
    "* Image\n",
    "\n",
    "SegmentedSoma\n",
    "* Mouse ID\n",
    "* Slice number\n",
    "* Cell index\n",
    "* Image index\n",
    "* Segmentation mask\n",
    "* Area of soma in microns^2\n",
    "\n",
    "EphysType\n",
    "* Mouse ID\n",
    "* Slice number\n",
    "* Cell index\n",
    "* Ephys type (“Tonic”, “Bursting”, “Ambiguous”)"
   ]
  },
  {
   "cell_type": "markdown",
   "metadata": {},
   "source": [
    "# Bonus"
   ]
  },
  {
   "cell_type": "markdown",
   "metadata": {},
   "source": [
    "Can you come up with a query that you would use to fetch information you would need to test the hypothesis?"
   ]
  }
 ],
 "metadata": {
  "kernelspec": {
   "display_name": "Python 3",
   "language": "python",
   "name": "python3"
  },
  "language_info": {
   "codemirror_mode": {
    "name": "ipython",
    "version": 3
   },
   "file_extension": ".py",
   "mimetype": "text/x-python",
   "name": "python",
   "nbconvert_exporter": "python",
   "pygments_lexer": "ipython3",
   "version": "3.6.2"
  }
 },
 "nbformat": 4,
 "nbformat_minor": 2
}
