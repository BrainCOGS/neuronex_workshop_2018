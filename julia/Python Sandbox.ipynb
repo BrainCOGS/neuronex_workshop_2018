{
 "cells": [
  {
   "cell_type": "code",
   "execution_count": 3,
   "metadata": {},
   "outputs": [
    {
     "name": "stdout",
     "output_type": "stream",
     "text": [
      "Connecting brody@datajoint00.pni.princeton.edu:3306\n"
     ]
    }
   ],
   "source": [
    "import os\n",
    "\n",
    "os.chdir(\"/Users/carlos/Github/datajoint/neuronex_workshop_2018/julia\")\n",
    "\n",
    "import datajoint as dj\n",
    "\n",
    "dj.conn(reset=True)\n",
    "\n",
    "schema_name = \"brody_tutorial3\"\n",
    "\n",
    "schema = dj.schema(schema_name, locals())\n"
   ]
  },
  {
   "cell_type": "code",
   "execution_count": 6,
   "metadata": {},
   "outputs": [
    {
     "name": "stdout",
     "output_type": "stream",
     "text": [
      "Connecting brody@datajoint00.pni.princeton.edu:3306\n"
     ]
    },
    {
     "data": {
      "text/html": [
       "\n",
       "        \n",
       "        <style type=\"text/css\">\n",
       "            .Relation{\n",
       "                border-collapse:collapse;\n",
       "            }\n",
       "            .Relation th{\n",
       "                background: #A0A0A0; color: #ffffff; padding:4px; border:#f0e0e0 1px solid;\n",
       "                font-weight: normal; font-family: monospace; font-size: 100%;\n",
       "            }\n",
       "            .Relation td{\n",
       "                padding:4px; border:#f0e0e0 1px solid; font-size:100%;\n",
       "            }\n",
       "            .Relation tr:nth-child(odd){\n",
       "                background: #ffffff;\n",
       "            }\n",
       "            .Relation tr:nth-child(even){\n",
       "                background: #f3f1ff;\n",
       "            }\n",
       "            /* Tooltip container */\n",
       "            .djtooltip {\n",
       "            }\n",
       "            /* Tooltip text */\n",
       "            .djtooltip .djtooltiptext {\n",
       "                visibility: hidden;\n",
       "                width: 120px;\n",
       "                background-color: black;\n",
       "                color: #fff;\n",
       "                text-align: center;\n",
       "                padding: 5px 0;\n",
       "                border-radius: 6px;\n",
       "                /* Position the tooltip text - see examples below! */\n",
       "                position: absolute;\n",
       "                z-index: 1;\n",
       "            }\n",
       "            #primary {\n",
       "                font-weight: bold;\n",
       "                color: black;\n",
       "            }\n",
       "\n",
       "            #nonprimary {\n",
       "                font-weight: normal;\n",
       "                color: white;\n",
       "            }\n",
       "\n",
       "            /* Show the tooltip text when you mouse over the tooltip container */\n",
       "            .djtooltip:hover .djtooltiptext {\n",
       "                visibility: visible;\n",
       "            }\n",
       "        </style>\n",
       "        \n",
       "        <b></b>\n",
       "            <div style=\"max-height:1000px;max-width:1500px;overflow:auto;\">\n",
       "            <table border=\"1\" class=\"Relation\">\n",
       "                <thead> <tr style=\"text-align: right;\"> <th> <div class=\"djtooltip\">\n",
       "                                <p id=\"primary\">mouse_id</p>\n",
       "                                <span class=\"djtooltiptext\">unique mouse id</span>\n",
       "                            </div></th><th><div class=\"djtooltip\">\n",
       "                                <p id=\"nonprimary\">dob</p>\n",
       "                                <span class=\"djtooltiptext\">mouse date of birth</span>\n",
       "                            </div></th><th><div class=\"djtooltip\">\n",
       "                                <p id=\"nonprimary\">sex</p>\n",
       "                                <span class=\"djtooltiptext\">sex of mouse - Male, Female, or Unknown/Unclassified</span>\n",
       "                            </div> </th> </tr> </thead>\n",
       "                <tbody> <tr> <td>0</td>\n",
       "<td>2010-01-01</td>\n",
       "<td>M</td></tr><tr><td>1</td>\n",
       "<td>2020-01-01</td>\n",
       "<td>M</td></tr><tr><td>2</td>\n",
       "<td>2020-01-02</td>\n",
       "<td>F</td></tr><tr><td>3</td>\n",
       "<td>2020-01-03</td>\n",
       "<td>U</td></tr><tr><td>5</td>\n",
       "<td>2020-01-05</td>\n",
       "<td>M</td></tr><tr><td>6</td>\n",
       "<td>2020-01-05</td>\n",
       "<td>F</td></tr><tr><td>7</td>\n",
       "<td>2020-01-05</td>\n",
       "<td>F</td></tr><tr><td>8</td>\n",
       "<td>2018-01-05</td>\n",
       "<td>U</td></tr><tr><td>10</td>\n",
       "<td>2017-01-01</td>\n",
       "<td>F</td></tr><tr><td>11</td>\n",
       "<td>2017-01-03</td>\n",
       "<td>F</td></tr><tr><td>100</td>\n",
       "<td>2017-01-05</td>\n",
       "<td>F</td> </tr> </tbody>\n",
       "            </table>\n",
       "            \n",
       "            <p>Total: 11</p></div>\n",
       "            "
      ],
      "text/plain": [
       "*mouse_id    dob            sex    \n",
       "+----------+ +------------+ +-----+\n",
       "0            2010-01-01     M      \n",
       "1            2020-01-01     M      \n",
       "2            2020-01-02     F      \n",
       "3            2020-01-03     U      \n",
       "5            2020-01-05     M      \n",
       "6            2020-01-05     F      \n",
       "7            2020-01-05     F      \n",
       "8            2018-01-05     U      \n",
       "10           2017-01-01     F      \n",
       "11           2017-01-03     F      \n",
       "100          2017-01-05     F      \n",
       " (Total: 11)"
      ]
     },
     "execution_count": 6,
     "metadata": {},
     "output_type": "execute_result"
    }
   ],
   "source": [
    "import os\n",
    "\n",
    "os.chdir(\"/Users/carlos/Github/datajoint/neuronex_workshop_2018/julia\")\n",
    "\n",
    "import datajoint as dj\n",
    "\n",
    "dj.conn(reset=True)\n",
    "\n",
    "schema_name = \"brody_tutorial3\"\n",
    "\n",
    "schema = dj.schema(schema_name, locals())\n",
    "\n",
    "\n",
    "@schema\n",
    "class Mouse(dj.Manual):\n",
    "    definition = \"\"\"\n",
    "      mouse_id: int                  # unique mouse id\n",
    "      ---\n",
    "      dob: date                      # mouse date of birth\n",
    "      sex: enum('M', 'F', 'U')       # sex of mouse - Male, Female, or Unknown/Unclassified\n",
    "      \"\"\"\n",
    "\n",
    "\n",
    "Mouse()"
   ]
  },
  {
   "cell_type": "code",
   "execution_count": 2,
   "metadata": {},
   "outputs": [
    {
     "name": "stdout",
     "output_type": "stream",
     "text": [
      "Connecting brody@datajoint00.pni.princeton.edu:3306\n"
     ]
    }
   ],
   "source": [
    "import datajoint as dj\n",
    "\n",
    "# RUN THE FOLLOWING ONLY ONCE:  Next time tou start up tou won't need it, the info will be saved in the local file\n",
    "#\n",
    "# dj.config.__setitem__(\"database.host\", \"datajoint00.pni.princeton.edu\")\n",
    "# dj.config.__setitem__(\"database.user\", \"YOUR PU ID\")\n",
    "# dj.config.__setitem__(\"database.password\", \"YOUR PU PASSWORD\")\n",
    "# dj.config.save_local()\n",
    "\n",
    "dj.conn(reset=True)\n",
    "\n",
    "schema = dj.schema('brody_tutorial2', locals())\n",
    "\n",
    "\n",
    "@schema\n",
    "class Mouse(dj.Manual):\n",
    "      definition = '''\n",
    "      mouse_id: int                  # unique mouse id\n",
    "      ---\n",
    "      dob: date                      # mouse date of birth\n",
    "      sex: enum('M', 'F', 'U')       # sex of mouse - Male, Female, or Unknown/Unclassified\n",
    "      '''\n",
    "\n",
    "mouse = Mouse()\n",
    "\n",
    "\n"
   ]
  },
  {
   "cell_type": "code",
   "execution_count": 4,
   "metadata": {},
   "outputs": [],
   "source": [
    "@schema\n",
    "class Session(dj.Manual):\n",
    "    definition = '''\n",
    "    # Experiment session\n",
    "    -> Mouse\n",
    "    session_date               : date                         # date\n",
    "    ---\n",
    "    experiment_setup           : int                          # experiment setup ID\n",
    "    experimenter               : varchar(100)                 # experimenter name\n",
    "    '''\n"
   ]
  },
  {
   "cell_type": "code",
   "execution_count": 6,
   "metadata": {},
   "outputs": [],
   "source": [
    "session = Session()"
   ]
  },
  {
   "cell_type": "code",
   "execution_count": 10,
   "metadata": {},
   "outputs": [],
   "source": [
    "data = {\n",
    "  'mouse_id': 1,\n",
    "  'session_date': '2017-05-15',\n",
    "  'experiment_setup': 0,\n",
    "  'experimenter': 'Edgar Y. Walker'\n",
    "}\n",
    "\n",
    "session.insert1(data, skip_duplicates=True)"
   ]
  },
  {
   "cell_type": "code",
   "execution_count": 11,
   "metadata": {},
   "outputs": [],
   "source": [
    "@schema\n",
    "class Neuron(dj.Imported):\n",
    "    definition = '''\n",
    "    -> Session\n",
    "    ---\n",
    "    activity: longblob    # electric activity of the neuron\n",
    "    '''\n",
    "\n",
    "    def make(self, key):\n",
    "        print(\"Howdy\")\n"
   ]
  },
  {
   "cell_type": "code",
   "execution_count": 15,
   "metadata": {},
   "outputs": [
    {
     "name": "stdout",
     "output_type": "stream",
     "text": [
      "Howdy\n",
      "Howdy\n",
      "Howdy\n"
     ]
    }
   ],
   "source": [
    "neuron = Neuron()\n",
    "neuron.populate()"
   ]
  }
 ],
 "metadata": {
  "kernelspec": {
   "display_name": "Python 3",
   "language": "python",
   "name": "python3"
  },
  "language_info": {
   "codemirror_mode": {
    "name": "ipython",
    "version": 3
   },
   "file_extension": ".py",
   "mimetype": "text/x-python",
   "name": "python",
   "nbconvert_exporter": "python",
   "pygments_lexer": "ipython3",
   "version": "3.7.4"
  }
 },
 "nbformat": 4,
 "nbformat_minor": 2
}
