{
 "cells": [
  {
   "cell_type": "code",
   "execution_count": 2,
   "metadata": {},
   "outputs": [
    {
     "name": "stdout",
     "output_type": "stream",
     "text": [
      "Connecting brody@datajoint00.pni.princeton.edu:3306\n"
     ]
    }
   ],
   "source": [
    "import datajoint as dj\n",
    "\n",
    "# RUN THE FOLLOWING ONLY ONCE:  Next time tou start up tou won't need it, the info will be saved in the local file\n",
    "#\n",
    "# dj.config.__setitem__(\"database.host\", \"datajoint00.pni.princeton.edu\")\n",
    "# dj.config.__setitem__(\"database.user\", \"YOUR PU ID\")\n",
    "# dj.config.__setitem__(\"database.password\", \"YOUR PU PASSWORD\")\n",
    "# dj.config.save_local()\n",
    "\n",
    "dj.conn(reset=True)\n",
    "\n",
    "schema = dj.schema('brody_tutorial2', locals())\n",
    "\n",
    "\n",
    "@schema\n",
    "class Mouse(dj.Manual):\n",
    "      definition = '''\n",
    "      mouse_id: int                  # unique mouse id\n",
    "      ---\n",
    "      dob: date                      # mouse date of birth\n",
    "      sex: enum('M', 'F', 'U')       # sex of mouse - Male, Female, or Unknown/Unclassified\n",
    "      '''\n",
    "\n",
    "mouse = Mouse()\n",
    "\n",
    "\n"
   ]
  },
  {
   "cell_type": "code",
   "execution_count": 4,
   "metadata": {},
   "outputs": [],
   "source": [
    "@schema\n",
    "class Session(dj.Manual):\n",
    "    definition = '''\n",
    "    # Experiment session\n",
    "    -> Mouse\n",
    "    session_date               : date                         # date\n",
    "    ---\n",
    "    experiment_setup           : int                          # experiment setup ID\n",
    "    experimenter               : varchar(100)                 # experimenter name\n",
    "    '''\n"
   ]
  },
  {
   "cell_type": "code",
   "execution_count": 6,
   "metadata": {},
   "outputs": [],
   "source": [
    "session = Session()"
   ]
  },
  {
   "cell_type": "code",
   "execution_count": 10,
   "metadata": {},
   "outputs": [],
   "source": [
    "data = {\n",
    "  'mouse_id': 1,\n",
    "  'session_date': '2017-05-15',\n",
    "  'experiment_setup': 0,\n",
    "  'experimenter': 'Edgar Y. Walker'\n",
    "}\n",
    "\n",
    "session.insert1(data, skip_duplicates=True)"
   ]
  },
  {
   "cell_type": "code",
   "execution_count": 11,
   "metadata": {},
   "outputs": [],
   "source": [
    "@schema\n",
    "class Neuron(dj.Imported):\n",
    "    definition = '''\n",
    "    -> Session\n",
    "    ---\n",
    "    activity: longblob    # electric activity of the neuron\n",
    "    '''\n",
    "\n",
    "    def make(self, key):\n",
    "        print(\"Howdy\")\n"
   ]
  },
  {
   "cell_type": "code",
   "execution_count": 15,
   "metadata": {},
   "outputs": [
    {
     "name": "stdout",
     "output_type": "stream",
     "text": [
      "Howdy\n",
      "Howdy\n",
      "Howdy\n"
     ]
    }
   ],
   "source": [
    "neuron = Neuron()\n",
    "neuron.populate()"
   ]
  }
 ],
 "metadata": {
  "kernelspec": {
   "display_name": "Python 3",
   "language": "python",
   "name": "python3"
  },
  "language_info": {
   "codemirror_mode": {
    "name": "ipython",
    "version": 3
   },
   "file_extension": ".py",
   "mimetype": "text/x-python",
   "name": "python",
   "nbconvert_exporter": "python",
   "pygments_lexer": "ipython3",
   "version": "3.7.4"
  }
 },
 "nbformat": 4,
 "nbformat_minor": 2
}
