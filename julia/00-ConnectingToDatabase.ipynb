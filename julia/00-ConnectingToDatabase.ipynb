{
 "cells": [
  {
   "cell_type": "markdown",
   "metadata": {},
   "source": [
    "# Julia and DataJoint\n",
    "\n",
    "This notebook is a minimal translation into Julia from the Python tutorial notebook [00-ConnectingToDatabase\n",
    "](../00-ConnectingToDatabase.ipynb)"
   ]
  },
  {
   "cell_type": "markdown",
   "metadata": {},
   "source": [
    "# Welcome to DataJoint Workshop!"
   ]
  },
  {
   "cell_type": "markdown",
   "metadata": {},
   "source": [
    "Congratulations! If you are reading this, then you have successfully opened up your very first workshop notebook!"
   ]
  },
  {
   "cell_type": "markdown",
   "metadata": {},
   "source": [
    "In this notebook, we will:\n",
    "1. learn to import DataJoint package\n",
    "2. connect DataJoint to our workshop database server\n",
    "3. learn how to save your connection configuration\n",
    "4. change your database password to something more secure/memorable and save it into your configuration"
   ]
  },
  {
   "cell_type": "markdown",
   "metadata": {},
   "source": [
    "# First thing first - Importing DataJoint package"
   ]
  },
  {
   "cell_type": "markdown",
   "metadata": {},
   "source": [
    "We're assuming that you already have Python and Julia installed, that you have DataJoint installed as a Python package, and that you have access to a DataJoint server. If you need a server, [DataJoint](https://datajoint.io/) offers a free tutorial server that you can hook up to."
   ]
  },
  {
   "cell_type": "markdown",
   "metadata": {},
   "source": [
    "The main approach we'll take here for using DataJoint from Julia is going to be to use the Julia package [Pycall.jl](https://gihub.com/PyCall.jl), which allows interoperability between Python and Julia, to call DataJoint's Python functions from within Julia. You should have that package installed already\n",
    "\n",
    "   `julia> Pkg.add(\"PyCall\")`\n",
    "\n",
    "So the first thing we do is load up the Julia package `PyCall` and then use that to load up the Python package `datajoint`. Convention is to alias the package to `dj`."
   ]
  },
  {
   "cell_type": "code",
   "execution_count": 2,
   "metadata": {},
   "outputs": [
    {
     "data": {
      "text/plain": [
       "PyObject <module 'datajoint' from '/Users/carlos/.julia/conda/3/lib/python3.7/site-packages/datajoint/__init__.py'>"
      ]
     },
     "execution_count": 2,
     "metadata": {},
     "output_type": "execute_result"
    }
   ],
   "source": [
    "using PyCall\n",
    "\n",
    "dj = pyimport(\"datajoint\")"
   ]
  },
  {
   "cell_type": "markdown",
   "metadata": {},
   "source": [
    "You have now successfully imported `datajoint` package. However, `datajoint` is still not connected to a database. We need to **configure the connection information**."
   ]
  },
  {
   "cell_type": "markdown",
   "metadata": {},
   "source": [
    "# Configuring connection to the DataJoint database server"
   ]
  },
  {
   "cell_type": "markdown",
   "metadata": {},
   "source": [
    "Before you can get connected to the database server with DataJoint, you need to make sure that `datajoint` is configured properly. All `datajoint` configs can be found under `dj.config`."
   ]
  },
  {
   "cell_type": "markdown",
   "metadata": {},
   "source": [
    "Let's take a look at what's inside the configuration."
   ]
  },
  {
   "cell_type": "code",
   "execution_count": null,
   "metadata": {},
   "outputs": [],
   "source": [
    "dj.config"
   ]
  },
  {
   "cell_type": "markdown",
   "metadata": {},
   "source": [
    "In particular, take a look at the `database.host`, `database.user`, and `database.password` fields - these fields tell DataJoint:\n",
    "* which database to connect to (`database.host`)\n",
    "* what user name to use (`database.user`), and\n",
    "* the password for the user (`database.password`)"
   ]
  },
  {
   "cell_type": "markdown",
   "metadata": {},
   "source": [
    "Let's fill out the configuration by specifying the datbase, the username, and the password.\n"
   ]
  },
  {
   "cell_type": "code",
   "execution_count": null,
   "metadata": {},
   "outputs": [],
   "source": [
    "dj.config.__setitem__(\"database.host\",     \"YOUR DATAJOINT SERVER HERE, E.G. DATAJOINT.MYUNIVERSITY.EDU\")\n",
    "dj.config.__setitem__(\"database.user\",     \"YOUR DATAJOINT USERNAME HERE\")\n",
    "dj.config.__setitem__(\"database.password\", \"YOUR DATAJOINT PASSWORD HERE\")\n"
   ]
  },
  {
   "cell_type": "markdown",
   "metadata": {},
   "source": [
    "Check that the config now contains your username and password"
   ]
  },
  {
   "cell_type": "code",
   "execution_count": null,
   "metadata": {},
   "outputs": [],
   "source": [
    "dj.config"
   ]
  },
  {
   "cell_type": "markdown",
   "metadata": {},
   "source": [
    "# Testing your connection"
   ]
  },
  {
   "cell_type": "markdown",
   "metadata": {},
   "source": [
    "You can now test your connection configuration by trying to explicitly connect to the database with `dj.conn()` function call."
   ]
  },
  {
   "cell_type": "code",
   "execution_count": 3,
   "metadata": {},
   "outputs": [
    {
     "data": {
      "text/plain": [
       "PyObject DataJoint connection (connected) brody@datajoint00.pni.princeton.edu:3306"
      ]
     },
     "execution_count": 3,
     "metadata": {},
     "output_type": "execute_result"
    }
   ],
   "source": [
    "dj.conn()   # establish the connection"
   ]
  },
  {
   "cell_type": "markdown",
   "metadata": {},
   "source": [
    "Sometimes you need to force a re-connect -- you can force it with the `reset=true` flag:"
   ]
  },
  {
   "cell_type": "code",
   "execution_count": 4,
   "metadata": {},
   "outputs": [
    {
     "data": {
      "text/plain": [
       "PyObject DataJoint connection (connected) brody@datajoint00.pni.princeton.edu:3306"
      ]
     },
     "execution_count": 4,
     "metadata": {},
     "output_type": "execute_result"
    }
   ],
   "source": [
    "dj.conn(reset=true)   # re-establish the connection"
   ]
  },
  {
   "cell_type": "markdown",
   "metadata": {},
   "source": [
    "If the above call returned without an error, then you have successfully established a connection with the database server!"
   ]
  },
  {
   "cell_type": "markdown",
   "metadata": {},
   "source": [
    "# Saving DataJoint configuration across sessions"
   ]
  },
  {
   "cell_type": "markdown",
   "metadata": {},
   "source": [
    "By default, all changes made to the `dj.config` are reset when you reset your Julia session (or, if in a Jupyter notebook, you restart your Julia kernel), and thus you would have to configure the connection every time you start a new Julia kernel.\n",
    "\n",
    "To save yourself the hassle, you can save the current configuration to **a local configuration file**, by default called `dj_local_config.json`. DataJoint will automatically load the configuration file when you import DataJoint the next time."
   ]
  },
  {
   "cell_type": "markdown",
   "metadata": {},
   "source": [
    "To save the current configuration, call the `save_local` method on the `dj.config` object."
   ]
  },
  {
   "cell_type": "code",
   "execution_count": null,
   "metadata": {},
   "outputs": [],
   "source": [
    "# save to local config file\n",
    "dj.config.save_local()"
   ]
  },
  {
   "cell_type": "markdown",
   "metadata": {},
   "source": [
    "Now your configuration is successfully saved into the local configuration file. **Note that your datajoint password can be read in clear text in that file**. So it's not super secure. And you should definitely use a datajoint password that is different to your other passwords. How do you change your datajoint password, you ask?"
   ]
  },
  {
   "cell_type": "markdown",
   "metadata": {},
   "source": [
    "# Changing the password"
   ]
  },
  {
   "cell_type": "markdown",
   "metadata": {},
   "source": [
    "Your administrator will have given you an initial password to connect to the database. It is recommended that you change this to something that you can remember better, and that for security reasons, is different to your other passwords. In principle, you can do so easily using `dj.set_password` function. However:\n",
    "\n",
    "```\n",
    "Technical note:  Python functions that open dialog boxes don't play nice with Julia Jupyter notebooks. So you'll have to do one of\n",
    "\n",
    "1) Open up Julia on a console, and there run\n",
    "\n",
    "julia> using PyCall\n",
    "julia> dj = pyimport(\"datajoint\")\n",
    "julia> dj.conn()\n",
    "julia> dj.set_password()\n",
    "\n",
    "2) Open up a Python Jupyter notebook, and change your password directly there\n",
    "```"
   ]
  },
  {
   "cell_type": "code",
   "execution_count": 6,
   "metadata": {},
   "outputs": [],
   "source": [
    "# dj.set_password()"
   ]
  },
  {
   "cell_type": "markdown",
   "metadata": {},
   "source": [
    "Congratulations! You have successfully updated your database password via DataJoint! Now be sure to update and save the configuration with the new password."
   ]
  },
  {
   "cell_type": "code",
   "execution_count": null,
   "metadata": {},
   "outputs": [],
   "source": [
    "dj.config.__setitem__(\"database.password\" \"ENTER YOUR NEW PASSWORD HERE\")\n",
    "\n",
    "# and save it to dj_local_config.json\n",
    "dj.config.save_local()"
   ]
  },
  {
   "cell_type": "markdown",
   "metadata": {},
   "source": [
    "# Final check of your DataJoint configuration"
   ]
  },
  {
   "cell_type": "markdown",
   "metadata": {},
   "source": [
    "To verify that everything is working, go ahead and restart the Jupyter notebook kernel (hit restart icon or go Kernel > Restart). Once restarted, execute the following to verify your connection works. The connection information should now be loaded automatically."
   ]
  },
  {
   "cell_type": "code",
   "execution_count": null,
   "metadata": {},
   "outputs": [],
   "source": [
    "using PyCall\n",
    "dj = pyimport(\"datajoint\")\n",
    "\n",
    "dj.conn()  # connect using saved configuration"
   ]
  },
  {
   "cell_type": "markdown",
   "metadata": {},
   "source": [
    "# Summary"
   ]
  },
  {
   "cell_type": "markdown",
   "metadata": {},
   "source": [
    "If all of the above worked, then you are now ready to continue on with the workshop! If you encounter any issues, be sure to let the instructor know and troubleshoot before moving on with the rest of the workshop."
   ]
  }
 ],
 "metadata": {
  "@webio": {
   "lastCommId": null,
   "lastKernelId": null
  },
  "kernelspec": {
   "display_name": "Julia 1.0.5",
   "language": "julia",
   "name": "julia-1.0"
  },
  "language_info": {
   "file_extension": ".jl",
   "mimetype": "application/julia",
   "name": "julia",
   "version": "1.0.5"
  }
 },
 "nbformat": 4,
 "nbformat_minor": 2
}
