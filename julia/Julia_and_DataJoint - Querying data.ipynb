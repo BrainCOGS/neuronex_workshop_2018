{
 "cells": [
  {
   "cell_type": "markdown",
   "metadata": {},
   "source": [
    "# Set up"
   ]
  },
  {
   "cell_type": "code",
   "execution_count": null,
   "metadata": {},
   "outputs": [],
   "source": [
    "using PyCall\n",
    "dj = pyimport(\"datajoint\")\n",
    "\n",
    "# RUN THE FOLLOWING ONLY ONCE:  Next time tou start up tou won't need it, the info will be saved in the local file\n",
    "#\n",
    "# dj.config.__setitem__(\"database.host\", \"datajoint00.pni.princeton.edu\")\n",
    "# dj.config.__setitem__(\"database.user\", \"YOUR PU ID\")\n",
    "# dj.config.__setitem__(\"database.password\", \"YOUR PU PASSWORD\")\n",
    "# dj.config.save_local()"
   ]
  },
  {
   "cell_type": "code",
   "execution_count": 2,
   "metadata": {},
   "outputs": [
    {
     "data": {
      "text/plain": [
       "PyObject DataJoint connection (connected) brody@datajoint00.pni.princeton.edu:3306"
      ]
     },
     "execution_count": 2,
     "metadata": {},
     "output_type": "execute_result"
    }
   ],
   "source": [
    "# And now connect:\n",
    "\n",
    "dj.conn()"
   ]
  },
  {
   "cell_type": "markdown",
   "metadata": {},
   "source": [
    "# Making a schema"
   ]
  },
  {
   "cell_type": "code",
   "execution_count": null,
   "metadata": {},
   "outputs": [],
   "source": [
    "schema = dj.schema(\"brody_tutorial2\", py\"locals()\")\n"
   ]
  },
  {
   "cell_type": "markdown",
   "metadata": {},
   "source": [
    "# Defining a table\n",
    "\n",
    "The table is defined as a Python class, so we go into Python through PyCall's `py\"\"\"` syntax and declare it there.\n",
    "The `$` signs tell PyCall to use the Julia variable at that point, but within the Python environment (e.g., `schema` and `dj`)."
   ]
  },
  {
   "cell_type": "code",
   "execution_count": null,
   "metadata": {},
   "outputs": [],
   "source": [
    "py\"\"\"\n",
    "@$schema\n",
    "class Mouse($dj.Manual):\n",
    "      definition = '''\n",
    "      mouse_id: int                  # unique mouse id\n",
    "      ---\n",
    "      dob: date                      # mouse date of birth\n",
    "      sex: enum('M', 'F', 'U')       # sex of mouse - Male, Female, or Unknown/Unclassified\n",
    "      '''\n",
    "\"\"\""
   ]
  },
  {
   "cell_type": "markdown",
   "metadata": {},
   "source": [
    "Having defined the `Mouse` class in Python, now we instantiate an instance of it. (The class was defined in the Python environment, not Julia; so we use PyCall's inline `py\"` syntax here to instantiate in the Python environment). We'll then store the result in a Julia variable, in this case `mouse`."
   ]
  },
  {
   "cell_type": "code",
   "execution_count": 3,
   "metadata": {},
   "outputs": [
    {
     "data": {
      "text/html": [
       "\n",
       "        \n",
       "        <style type=\"text/css\">\n",
       "            .Relation{\n",
       "                border-collapse:collapse;\n",
       "            }\n",
       "            .Relation th{\n",
       "                background: #A0A0A0; color: #ffffff; padding:4px; border:#f0e0e0 1px solid;\n",
       "                font-weight: normal; font-family: monospace; font-size: 100%;\n",
       "            }\n",
       "            .Relation td{\n",
       "                padding:4px; border:#f0e0e0 1px solid; font-size:100%;\n",
       "            }\n",
       "            .Relation tr:nth-child(odd){\n",
       "                background: #ffffff;\n",
       "            }\n",
       "            .Relation tr:nth-child(even){\n",
       "                background: #f3f1ff;\n",
       "            }\n",
       "            /* Tooltip container */\n",
       "            .djtooltip {\n",
       "            }\n",
       "            /* Tooltip text */\n",
       "            .djtooltip .djtooltiptext {\n",
       "                visibility: hidden;\n",
       "                width: 120px;\n",
       "                background-color: black;\n",
       "                color: #fff;\n",
       "                text-align: center;\n",
       "                padding: 5px 0;\n",
       "                border-radius: 6px;\n",
       "                /* Position the tooltip text - see examples below! */\n",
       "                position: absolute;\n",
       "                z-index: 1;\n",
       "            }\n",
       "            #primary {\n",
       "                font-weight: bold;\n",
       "                color: black;\n",
       "            }\n",
       "\n",
       "            #nonprimary {\n",
       "                font-weight: normal;\n",
       "                color: white;\n",
       "            }\n",
       "\n",
       "            /* Show the tooltip text when you mouse over the tooltip container */\n",
       "            .djtooltip:hover .djtooltiptext {\n",
       "                visibility: visible;\n",
       "            }\n",
       "        </style>\n",
       "        \n",
       "        <b></b>\n",
       "            <div style=\"max-height:1000px;max-width:1500px;overflow:auto;\">\n",
       "            <table border=\"1\" class=\"Relation\">\n",
       "                <thead> <tr style=\"text-align: right;\"> <th> <div class=\"djtooltip\">\n",
       "                                <p id=\"primary\">mouse_id</p>\n",
       "                                <span class=\"djtooltiptext\">unique mouse id</span>\n",
       "                            </div></th><th><div class=\"djtooltip\">\n",
       "                                <p id=\"nonprimary\">dob</p>\n",
       "                                <span class=\"djtooltiptext\">mouse date of birth</span>\n",
       "                            </div></th><th><div class=\"djtooltip\">\n",
       "                                <p id=\"nonprimary\">sex</p>\n",
       "                                <span class=\"djtooltiptext\">sex of mouse - Male, Female, or Unknown/Unclassified</span>\n",
       "                            </div> </th> </tr> </thead>\n",
       "                <tbody> <tr> <td>1</td>\n",
       "<td>2019-12-19</td>\n",
       "<td>M</td></tr><tr><td>2</td>\n",
       "<td>2019-12-20</td>\n",
       "<td>U</td></tr><tr><td>3</td>\n",
       "<td>2019-12-21</td>\n",
       "<td>M</td> </tr> </tbody>\n",
       "            </table>\n",
       "            \n",
       "            <p>Total: 3</p></div>\n",
       "            "
      ],
      "text/plain": [
       "PyObject *mouse_id    dob            sex    \n",
       "+----------+ +------------+ +-----+\n",
       "1            2019-12-19     M      \n",
       "2            2019-12-20     U      \n",
       "3            2019-12-21     M      \n",
       " (Total: 3)\n"
      ]
     },
     "execution_count": 3,
     "metadata": {},
     "output_type": "execute_result"
    },
    {
     "name": "stderr",
     "output_type": "stream",
     "text": [
      "┌ Warning: `getindex(o::PyObject, s::AbstractString)` is deprecated in favor of dot overloading (`getproperty`) so elements should now be accessed as e.g. `o.\"s\"` instead of `o[\"s\"]`.\n",
      "│   caller = show(::IOContext{Base.GenericIOBuffer{Array{UInt8,1}}}, ::MIME{Symbol(\"text/html\")}, ::PyObject) at PyCall.jl:889\n",
      "└ @ PyCall /Users/carlos/.julia/packages/PyCall/ttONZ/src/PyCall.jl:889\n"
     ]
    }
   ],
   "source": [
    "mouse = py\"Mouse()\""
   ]
  },
  {
   "cell_type": "markdown",
   "metadata": {},
   "source": [
    "# Inserting data into a table\n",
    "\n",
    "works just like in Python.  For example, we can execute the code below. (Note that if the table and these primary keys already existed, duplicate entry errors will be generated. To avoid those errors, and silently skip inserting duplicates, use the `skip_duplicates=true flag`)\n"
   ]
  },
  {
   "cell_type": "code",
   "execution_count": 7,
   "metadata": {},
   "outputs": [],
   "source": [
    "mouse.insert1([1, \"2019-12-19\", \"M\"])   # A single row, with columns following the order in the table definition\n",
    "mouse.insert1(Dict(\"mouse_id\"=>2, \"dob\"=>\"2019-12-20\", \"sex\"=>\"U\"))  # Using a dictionary"
   ]
  },
  {
   "cell_type": "code",
   "execution_count": 8,
   "metadata": {},
   "outputs": [],
   "source": [
    "mouse.insert1([1, \"2019-12-19\", \"M\"], skip_duplicates=true)   # A single row, with columns following the order in the table definition"
   ]
  },
  {
   "cell_type": "markdown",
   "metadata": {},
   "source": [
    "And using `mouse.insert()` (no \"1\" at the end of `insert`) you can send a list of tuples or a list of dictionaries to insert multiple rows:"
   ]
  },
  {
   "cell_type": "code",
   "execution_count": 33,
   "metadata": {},
   "outputs": [],
   "source": [
    "mouse.insert([\n",
    "        Dict(\"mouse_id\"=>5, \"dob\"=>\"2020-01-05\", \"sex\"=>\"M\"), \n",
    "        Dict(\"mouse_id\"=>6, \"dob\"=>\"2020-01-05\", \"sex\"=>\"F\"),\n",
    "        Dict(\"mouse_id\"=>7, \"dob\"=>\"2020-01-05\", \"sex\"=>\"F\")\n",
    "        ], skip_duplicates=true)"
   ]
  },
  {
   "cell_type": "code",
   "execution_count": 12,
   "metadata": {},
   "outputs": [
    {
     "data": {
      "text/html": [
       "\n",
       "        \n",
       "        <style type=\"text/css\">\n",
       "            .Relation{\n",
       "                border-collapse:collapse;\n",
       "            }\n",
       "            .Relation th{\n",
       "                background: #A0A0A0; color: #ffffff; padding:4px; border:#f0e0e0 1px solid;\n",
       "                font-weight: normal; font-family: monospace; font-size: 100%;\n",
       "            }\n",
       "            .Relation td{\n",
       "                padding:4px; border:#f0e0e0 1px solid; font-size:100%;\n",
       "            }\n",
       "            .Relation tr:nth-child(odd){\n",
       "                background: #ffffff;\n",
       "            }\n",
       "            .Relation tr:nth-child(even){\n",
       "                background: #f3f1ff;\n",
       "            }\n",
       "            /* Tooltip container */\n",
       "            .djtooltip {\n",
       "            }\n",
       "            /* Tooltip text */\n",
       "            .djtooltip .djtooltiptext {\n",
       "                visibility: hidden;\n",
       "                width: 120px;\n",
       "                background-color: black;\n",
       "                color: #fff;\n",
       "                text-align: center;\n",
       "                padding: 5px 0;\n",
       "                border-radius: 6px;\n",
       "                /* Position the tooltip text - see examples below! */\n",
       "                position: absolute;\n",
       "                z-index: 1;\n",
       "            }\n",
       "            #primary {\n",
       "                font-weight: bold;\n",
       "                color: black;\n",
       "            }\n",
       "\n",
       "            #nonprimary {\n",
       "                font-weight: normal;\n",
       "                color: white;\n",
       "            }\n",
       "\n",
       "            /* Show the tooltip text when you mouse over the tooltip container */\n",
       "            .djtooltip:hover .djtooltiptext {\n",
       "                visibility: visible;\n",
       "            }\n",
       "        </style>\n",
       "        \n",
       "        <b></b>\n",
       "            <div style=\"max-height:1000px;max-width:1500px;overflow:auto;\">\n",
       "            <table border=\"1\" class=\"Relation\">\n",
       "                <thead> <tr style=\"text-align: right;\"> <th> <div class=\"djtooltip\">\n",
       "                                <p id=\"primary\">mouse_id</p>\n",
       "                                <span class=\"djtooltiptext\">unique mouse id</span>\n",
       "                            </div></th><th><div class=\"djtooltip\">\n",
       "                                <p id=\"nonprimary\">dob</p>\n",
       "                                <span class=\"djtooltiptext\">mouse date of birth</span>\n",
       "                            </div></th><th><div class=\"djtooltip\">\n",
       "                                <p id=\"nonprimary\">sex</p>\n",
       "                                <span class=\"djtooltiptext\">sex of mouse - Male, Female, or Unknown/Unclassified</span>\n",
       "                            </div> </th> </tr> </thead>\n",
       "                <tbody> <tr> <td>1</td>\n",
       "<td>2019-12-19</td>\n",
       "<td>M</td></tr><tr><td>2</td>\n",
       "<td>2019-12-20</td>\n",
       "<td>U</td></tr><tr><td>3</td>\n",
       "<td>2019-12-21</td>\n",
       "<td>M</td></tr><tr><td>4</td>\n",
       "<td>2020-01-03</td>\n",
       "<td>F</td></tr><tr><td>5</td>\n",
       "<td>2020-01-05</td>\n",
       "<td>M</td></tr><tr><td>6</td>\n",
       "<td>2020-01-05</td>\n",
       "<td>F</td></tr><tr><td>7</td>\n",
       "<td>2020-01-05</td>\n",
       "<td>F</td> </tr> </tbody>\n",
       "            </table>\n",
       "            \n",
       "            <p>Total: 7</p></div>\n",
       "            "
      ],
      "text/plain": [
       "PyObject *mouse_id    dob            sex    \n",
       "+----------+ +------------+ +-----+\n",
       "1            2019-12-19     M      \n",
       "2            2019-12-20     U      \n",
       "3            2019-12-21     M      \n",
       "4            2020-01-03     F      \n",
       "5            2020-01-05     M      \n",
       "6            2020-01-05     F      \n",
       "7            2020-01-05     F      \n",
       " (Total: 7)\n"
      ]
     },
     "execution_count": 12,
     "metadata": {},
     "output_type": "execute_result"
    }
   ],
   "source": [
    "mouse"
   ]
  },
  {
   "cell_type": "markdown",
   "metadata": {},
   "source": [
    "You can now fetch data, and do restrictions, just like in Python, but note that we use single quotes for non-numeric things inside the double quotes, so the two types of quote symbol don't mix up with each other."
   ]
  },
  {
   "cell_type": "code",
   "execution_count": 17,
   "metadata": {},
   "outputs": [
    {
     "data": {
      "text/html": [
       "\n",
       "        \n",
       "        <style type=\"text/css\">\n",
       "            .Relation{\n",
       "                border-collapse:collapse;\n",
       "            }\n",
       "            .Relation th{\n",
       "                background: #A0A0A0; color: #ffffff; padding:4px; border:#f0e0e0 1px solid;\n",
       "                font-weight: normal; font-family: monospace; font-size: 100%;\n",
       "            }\n",
       "            .Relation td{\n",
       "                padding:4px; border:#f0e0e0 1px solid; font-size:100%;\n",
       "            }\n",
       "            .Relation tr:nth-child(odd){\n",
       "                background: #ffffff;\n",
       "            }\n",
       "            .Relation tr:nth-child(even){\n",
       "                background: #f3f1ff;\n",
       "            }\n",
       "            /* Tooltip container */\n",
       "            .djtooltip {\n",
       "            }\n",
       "            /* Tooltip text */\n",
       "            .djtooltip .djtooltiptext {\n",
       "                visibility: hidden;\n",
       "                width: 120px;\n",
       "                background-color: black;\n",
       "                color: #fff;\n",
       "                text-align: center;\n",
       "                padding: 5px 0;\n",
       "                border-radius: 6px;\n",
       "                /* Position the tooltip text - see examples below! */\n",
       "                position: absolute;\n",
       "                z-index: 1;\n",
       "            }\n",
       "            #primary {\n",
       "                font-weight: bold;\n",
       "                color: black;\n",
       "            }\n",
       "\n",
       "            #nonprimary {\n",
       "                font-weight: normal;\n",
       "                color: white;\n",
       "            }\n",
       "\n",
       "            /* Show the tooltip text when you mouse over the tooltip container */\n",
       "            .djtooltip:hover .djtooltiptext {\n",
       "                visibility: visible;\n",
       "            }\n",
       "        </style>\n",
       "        \n",
       "        <b></b>\n",
       "            <div style=\"max-height:1000px;max-width:1500px;overflow:auto;\">\n",
       "            <table border=\"1\" class=\"Relation\">\n",
       "                <thead> <tr style=\"text-align: right;\"> <th> <div class=\"djtooltip\">\n",
       "                                <p id=\"primary\">mouse_id</p>\n",
       "                                <span class=\"djtooltiptext\">unique mouse id</span>\n",
       "                            </div></th><th><div class=\"djtooltip\">\n",
       "                                <p id=\"nonprimary\">dob</p>\n",
       "                                <span class=\"djtooltiptext\">mouse date of birth</span>\n",
       "                            </div></th><th><div class=\"djtooltip\">\n",
       "                                <p id=\"nonprimary\">sex</p>\n",
       "                                <span class=\"djtooltiptext\">sex of mouse - Male, Female, or Unknown/Unclassified</span>\n",
       "                            </div> </th> </tr> </thead>\n",
       "                <tbody> <tr> <td>5</td>\n",
       "<td>2020-01-05</td>\n",
       "<td>M</td></tr><tr><td>6</td>\n",
       "<td>2020-01-05</td>\n",
       "<td>F</td></tr><tr><td>7</td>\n",
       "<td>2020-01-05</td>\n",
       "<td>F</td> </tr> </tbody>\n",
       "            </table>\n",
       "            \n",
       "            <p>Total: 3</p></div>\n",
       "            "
      ],
      "text/plain": [
       "PyObject *mouse_id    dob            sex    \n",
       "+----------+ +------------+ +-----+\n",
       "5            2020-01-05     M      \n",
       "6            2020-01-05     F      \n",
       "7            2020-01-05     F      \n",
       " (Total: 3)\n"
      ]
     },
     "execution_count": 17,
     "metadata": {},
     "output_type": "execute_result"
    }
   ],
   "source": [
    "mouse & \"dob > '2020-01-03'\""
   ]
  },
  {
   "cell_type": "code",
   "execution_count": 20,
   "metadata": {},
   "outputs": [
    {
     "data": {
      "text/html": [
       "\n",
       "        \n",
       "        <style type=\"text/css\">\n",
       "            .Relation{\n",
       "                border-collapse:collapse;\n",
       "            }\n",
       "            .Relation th{\n",
       "                background: #A0A0A0; color: #ffffff; padding:4px; border:#f0e0e0 1px solid;\n",
       "                font-weight: normal; font-family: monospace; font-size: 100%;\n",
       "            }\n",
       "            .Relation td{\n",
       "                padding:4px; border:#f0e0e0 1px solid; font-size:100%;\n",
       "            }\n",
       "            .Relation tr:nth-child(odd){\n",
       "                background: #ffffff;\n",
       "            }\n",
       "            .Relation tr:nth-child(even){\n",
       "                background: #f3f1ff;\n",
       "            }\n",
       "            /* Tooltip container */\n",
       "            .djtooltip {\n",
       "            }\n",
       "            /* Tooltip text */\n",
       "            .djtooltip .djtooltiptext {\n",
       "                visibility: hidden;\n",
       "                width: 120px;\n",
       "                background-color: black;\n",
       "                color: #fff;\n",
       "                text-align: center;\n",
       "                padding: 5px 0;\n",
       "                border-radius: 6px;\n",
       "                /* Position the tooltip text - see examples below! */\n",
       "                position: absolute;\n",
       "                z-index: 1;\n",
       "            }\n",
       "            #primary {\n",
       "                font-weight: bold;\n",
       "                color: black;\n",
       "            }\n",
       "\n",
       "            #nonprimary {\n",
       "                font-weight: normal;\n",
       "                color: white;\n",
       "            }\n",
       "\n",
       "            /* Show the tooltip text when you mouse over the tooltip container */\n",
       "            .djtooltip:hover .djtooltiptext {\n",
       "                visibility: visible;\n",
       "            }\n",
       "        </style>\n",
       "        \n",
       "        <b></b>\n",
       "            <div style=\"max-height:1000px;max-width:1500px;overflow:auto;\">\n",
       "            <table border=\"1\" class=\"Relation\">\n",
       "                <thead> <tr style=\"text-align: right;\"> <th> <div class=\"djtooltip\">\n",
       "                                <p id=\"primary\">mouse_id</p>\n",
       "                                <span class=\"djtooltiptext\">unique mouse id</span>\n",
       "                            </div></th><th><div class=\"djtooltip\">\n",
       "                                <p id=\"nonprimary\">dob</p>\n",
       "                                <span class=\"djtooltiptext\">mouse date of birth</span>\n",
       "                            </div></th><th><div class=\"djtooltip\">\n",
       "                                <p id=\"nonprimary\">sex</p>\n",
       "                                <span class=\"djtooltiptext\">sex of mouse - Male, Female, or Unknown/Unclassified</span>\n",
       "                            </div> </th> </tr> </thead>\n",
       "                <tbody> <tr> <td>6</td>\n",
       "<td>2020-01-05</td>\n",
       "<td>F</td></tr><tr><td>7</td>\n",
       "<td>2020-01-05</td>\n",
       "<td>F</td> </tr> </tbody>\n",
       "            </table>\n",
       "            \n",
       "            <p>Total: 2</p></div>\n",
       "            "
      ],
      "text/plain": [
       "PyObject *mouse_id    dob            sex    \n",
       "+----------+ +------------+ +-----+\n",
       "6            2020-01-05     F      \n",
       "7            2020-01-05     F      \n",
       " (Total: 2)\n"
      ]
     },
     "execution_count": 20,
     "metadata": {},
     "output_type": "execute_result"
    }
   ],
   "source": [
    "mouse & \"dob = '2020-01-05'\" & \"sex = 'F'\""
   ]
  },
  {
   "cell_type": "code",
   "execution_count": 24,
   "metadata": {},
   "outputs": [
    {
     "data": {
      "text/html": [
       "\n",
       "        \n",
       "        <style type=\"text/css\">\n",
       "            .Relation{\n",
       "                border-collapse:collapse;\n",
       "            }\n",
       "            .Relation th{\n",
       "                background: #A0A0A0; color: #ffffff; padding:4px; border:#f0e0e0 1px solid;\n",
       "                font-weight: normal; font-family: monospace; font-size: 100%;\n",
       "            }\n",
       "            .Relation td{\n",
       "                padding:4px; border:#f0e0e0 1px solid; font-size:100%;\n",
       "            }\n",
       "            .Relation tr:nth-child(odd){\n",
       "                background: #ffffff;\n",
       "            }\n",
       "            .Relation tr:nth-child(even){\n",
       "                background: #f3f1ff;\n",
       "            }\n",
       "            /* Tooltip container */\n",
       "            .djtooltip {\n",
       "            }\n",
       "            /* Tooltip text */\n",
       "            .djtooltip .djtooltiptext {\n",
       "                visibility: hidden;\n",
       "                width: 120px;\n",
       "                background-color: black;\n",
       "                color: #fff;\n",
       "                text-align: center;\n",
       "                padding: 5px 0;\n",
       "                border-radius: 6px;\n",
       "                /* Position the tooltip text - see examples below! */\n",
       "                position: absolute;\n",
       "                z-index: 1;\n",
       "            }\n",
       "            #primary {\n",
       "                font-weight: bold;\n",
       "                color: black;\n",
       "            }\n",
       "\n",
       "            #nonprimary {\n",
       "                font-weight: normal;\n",
       "                color: white;\n",
       "            }\n",
       "\n",
       "            /* Show the tooltip text when you mouse over the tooltip container */\n",
       "            .djtooltip:hover .djtooltiptext {\n",
       "                visibility: visible;\n",
       "            }\n",
       "        </style>\n",
       "        \n",
       "        <b></b>\n",
       "            <div style=\"max-height:1000px;max-width:1500px;overflow:auto;\">\n",
       "            <table border=\"1\" class=\"Relation\">\n",
       "                <thead> <tr style=\"text-align: right;\"> <th> <div class=\"djtooltip\">\n",
       "                                <p id=\"primary\">mouse_id</p>\n",
       "                                <span class=\"djtooltiptext\">unique mouse id</span>\n",
       "                            </div></th><th><div class=\"djtooltip\">\n",
       "                                <p id=\"nonprimary\">dob</p>\n",
       "                                <span class=\"djtooltiptext\">mouse date of birth</span>\n",
       "                            </div></th><th><div class=\"djtooltip\">\n",
       "                                <p id=\"nonprimary\">sex</p>\n",
       "                                <span class=\"djtooltiptext\">sex of mouse - Male, Female, or Unknown/Unclassified</span>\n",
       "                            </div> </th> </tr> </thead>\n",
       "                <tbody> <tr> <td>1</td>\n",
       "<td>2019-12-19</td>\n",
       "<td>M</td></tr><tr><td>3</td>\n",
       "<td>2019-12-21</td>\n",
       "<td>M</td></tr><tr><td>5</td>\n",
       "<td>2020-01-05</td>\n",
       "<td>M</td> </tr> </tbody>\n",
       "            </table>\n",
       "            \n",
       "            <p>Total: 3</p></div>\n",
       "            "
      ],
      "text/plain": [
       "PyObject *mouse_id    dob            sex    \n",
       "+----------+ +------------+ +-----+\n",
       "1            2019-12-19     M      \n",
       "3            2019-12-21     M      \n",
       "5            2020-01-05     M      \n",
       " (Total: 3)\n"
      ]
     },
     "execution_count": 24,
     "metadata": {},
     "output_type": "execute_result"
    }
   ],
   "source": [
    "mouse & Dict(\"sex\"=>\"M\")"
   ]
  },
  {
   "cell_type": "markdown",
   "metadata": {},
   "source": [
    "# Fetching data\n",
    "\n",
    "Any table object (without restrictions or after a restriction) can have data fetched from it. Note that the data comes back as a PyObject; below we'll convert that into Julia."
   ]
  },
  {
   "cell_type": "code",
   "execution_count": 21,
   "metadata": {},
   "outputs": [
    {
     "data": {
      "text/plain": [
       "PyObject array([(1, datetime.date(2019, 12, 19), 'M'),\n",
       "       (2, datetime.date(2019, 12, 20), 'U'),\n",
       "       (3, datetime.date(2019, 12, 21), 'M'),\n",
       "       (4, datetime.date(2020, 1, 3), 'F'),\n",
       "       (5, datetime.date(2020, 1, 5), 'M'),\n",
       "       (6, datetime.date(2020, 1, 5), 'F'),\n",
       "       (7, datetime.date(2020, 1, 5), 'F')],\n",
       "      dtype=[('mouse_id', '<i8'), ('dob', 'O'), ('sex', 'O')])"
      ]
     },
     "execution_count": 21,
     "metadata": {},
     "output_type": "execute_result"
    }
   ],
   "source": [
    "mouse.fetch()"
   ]
  },
  {
   "cell_type": "markdown",
   "metadata": {},
   "source": [
    "We'll define a function to take the output of the Python function `fetch()` and turn it into Julia format:"
   ]
  },
  {
   "cell_type": "code",
   "execution_count": 34,
   "metadata": {
    "scrolled": true
   },
   "outputs": [
    {
     "data": {
      "text/plain": [
       "d2j"
      ]
     },
     "execution_count": 34,
     "metadata": {},
     "output_type": "execute_result"
    }
   ],
   "source": [
    "import Dates\n",
    "\n",
    "# List of data types that are not automatically converted, defining how to convert\n",
    "# First column is Python name for the data type class, second column is corresponding Julia type\n",
    "conversion_list = [\n",
    "      \"str\"   String;\n",
    "      \"date\"  Dates.Date;\n",
    "]\n",
    "\n",
    "\"\"\"\n",
    "function d2j(x)\n",
    "\n",
    "Takes x, the output of a datajoint fetch() call, and converts it from PyObject formal to Julia format\n",
    "\n",
    "= PARAMETERS:\n",
    "\n",
    "- x      Must be a PyObject that is the output of a datajoint fetch() call\n",
    "\n",
    "= RETURNS:\n",
    "\n",
    "- out    The same data that was in x, but now in Julia format. In general this will\n",
    "         be an Array of type Any, but if x was a single column of unique type, or a list\n",
    "         of single columns, each of unique type, then those may come back as the corresponding\n",
    "         type (e.g., Array of Int or Array of String).\n",
    "\n",
    "= EXAMPLE CALL:\n",
    "\n",
    "```jldoctest\n",
    "d2j(mouse.fetch())\n",
    "\n",
    "7×3 Array{Any,2}:\n",
    " 1  2019-12-19  \"M\"\n",
    " 2  2019-12-20  \"U\"\n",
    " 3  2019-12-21  \"M\"\n",
    " 4  2020-01-03  \"F\"\n",
    " 5  2020-01-05  \"M\"\n",
    " 6  2020-01-05  \"F\"\n",
    " 7  2020-01-05  \"F\"\n",
    "\n",
    "d2j(mouse.fetch(\"mouse_id\"))\n",
    "\n",
    "7-element Array{Int64,1}:\n",
    " 1\n",
    " 2\n",
    " 3\n",
    " 4\n",
    " 5\n",
    " 6\n",
    " 7\n",
    "\n",
    "\n",
    "```\n",
    "\"\"\"\n",
    "function d2j(x)\n",
    "      out = x\n",
    "      if typeof(x) <: PyObject && x.__class__.__name__ == \"ndarray\" &&  !isempty(x)\n",
    "            # We are getting each row of the table as a row of x.\n",
    "            # This means different columns will have different data types\n",
    "            nrows = length(x)\n",
    "            ncols = length(get(x, 0))\n",
    "            out = Array{Any}(undef, nrows, ncols)\n",
    "            for i=1:nrows\n",
    "                  for j=1:ncols\n",
    "                        # These get statements do autoconvert to Julia data types\n",
    "                        out[i,j] = get(get(x, i-1), j-1)\n",
    "                        # Except for integers it seems, which stay as PyObjects but can be\n",
    "                        # converted as follows:\n",
    "                        if typeof(out[i,j]) <: PyObject && py\"hasattr($(out[i,j]), 'flatten')\"\n",
    "                              out[i,j] = out[i,j].flatten()[1]\n",
    "                        end\n",
    "                  end\n",
    "            end\n",
    "            return out\n",
    "      elseif typeof(x) <: Array{PyObject,1}\n",
    "            # We have a single column requested: ony a single data type\n",
    "            if !isempty(x)\n",
    "                  classname = x[1].__class__.__name__\n",
    "                  # Do we know how to convert this data type?\n",
    "                  u = findall(conversion_list[:,1] .== classname)\n",
    "                  if !isempty(u)\n",
    "                        # We do know!\n",
    "                        u = u[1]\n",
    "                        mytype = conversion_list[u,2]\n",
    "                        out = Array{mytype}(undef, length(x))\n",
    "                        for i=1:length(x)\n",
    "                              out[i] = convert(mytype, x[i])\n",
    "                        end\n",
    "                  end\n",
    "            end\n",
    "      elseif typeof(x) <: Array && eltype(x) <: Array\n",
    "            # We have multiple columns requested as multiple outputs\n",
    "            # We'll convert each one separately\n",
    "            out = Array{Any}(undef, length(x))\n",
    "            for i=1:length(x)\n",
    "                  out[i] = d2j(x[i])\n",
    "            end\n",
    "      end\n",
    "      return out\n",
    "end\n"
   ]
  },
  {
   "cell_type": "code",
   "execution_count": 35,
   "metadata": {},
   "outputs": [
    {
     "data": {
      "text/plain": [
       "7×3 Array{Any,2}:\n",
       " 1  2019-12-19  \"M\"\n",
       " 2  2019-12-20  \"U\"\n",
       " 3  2019-12-21  \"M\"\n",
       " 4  2020-01-03  \"F\"\n",
       " 5  2020-01-05  \"M\"\n",
       " 6  2020-01-05  \"F\"\n",
       " 7  2020-01-05  \"F\""
      ]
     },
     "execution_count": 35,
     "metadata": {},
     "output_type": "execute_result"
    }
   ],
   "source": [
    "d2j(mouse.fetch())"
   ]
  },
  {
   "cell_type": "code",
   "execution_count": 36,
   "metadata": {},
   "outputs": [
    {
     "data": {
      "text/plain": [
       "7-element Array{Int64,1}:\n",
       " 1\n",
       " 2\n",
       " 3\n",
       " 4\n",
       " 5\n",
       " 6\n",
       " 7"
      ]
     },
     "execution_count": 36,
     "metadata": {},
     "output_type": "execute_result"
    }
   ],
   "source": [
    "d2j(mouse.fetch(\"mouse_id\"))"
   ]
  },
  {
   "cell_type": "code",
   "execution_count": 37,
   "metadata": {},
   "outputs": [
    {
     "name": "stdout",
     "output_type": "stream",
     "text": [
      "mouse id is\n",
      "[1, 2, 3, 4, 5, 6, 7]\n",
      "sex is\n",
      "[\"M\", \"U\", \"M\", \"F\", \"M\", \"F\", \"F\"]\n"
     ]
    }
   ],
   "source": [
    "mouse_id, sex = d2j(mouse.fetch(\"mouse_id\", \"sex\"));\n",
    "println(\"mouse id is\"); println(mouse_id)\n",
    "println(\"sex is\");      println(sex)\n"
   ]
  },
  {
   "cell_type": "code",
   "execution_count": null,
   "metadata": {},
   "outputs": [],
   "source": [
    "acquisition = dj.create_virtual_module(\"acquisition\", \"u19_acquisition\")"
   ]
  },
  {
   "cell_type": "code",
   "execution_count": null,
   "metadata": {},
   "outputs": [],
   "source": [
    "py\"$dj.Diagram($acquisition)\""
   ]
  }
 ],
 "metadata": {
  "@webio": {
   "lastCommId": null,
   "lastKernelId": null
  },
  "kernelspec": {
   "display_name": "Julia 1.0.5",
   "language": "julia",
   "name": "julia-1.0"
  },
  "language_info": {
   "file_extension": ".jl",
   "mimetype": "application/julia",
   "name": "julia",
   "version": "1.0.5"
  }
 },
 "nbformat": 4,
 "nbformat_minor": 2
}
