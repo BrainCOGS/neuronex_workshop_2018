{
 "cells": [
  {
   "cell_type": "markdown",
   "metadata": {},
   "source": [
    "# Pipeline design exercise"
   ]
  },
  {
   "cell_type": "markdown",
   "metadata": {},
   "source": [
    "Welcome to Day 2 of DataJoint Workshop! In this session, you will work in a team to horn in your skills for pipeline design by designing and building a data pipeine to satisfy a real-life experimental project requirements!"
   ]
  },
  {
   "cell_type": "markdown",
   "metadata": {},
   "source": [
    "# Task"
   ]
  },
  {
   "cell_type": "markdown",
   "metadata": {},
   "source": [
    "Read the project scenario below carefully. You are given relevant entities for this experiment and attributes that you would want to keep track for each entity.\n",
    "\n",
    "Your team's task is to design a data pipeline, complete with table definitions in DataJoint to hold all the entities for the project.\n",
    "\n",
    "When you design your data pipeline, be sure to think about the following questions!\n",
    "* What should be the data type for each attribute?\n",
    "* Which attributes should be in the primary key?\n",
    "* What's the dependency between the entities?\n",
    "* What should be the tier of the table?\n",
    "    * If `Imported` or `Computed`, what kind of processing should occur in `make`? (You don't have to implement it)\n"
   ]
  },
  {
   "cell_type": "markdown",
   "metadata": {},
   "source": [
    "You might find the following data types list helpful when designing the table:\n",
    "\n",
    "* `int` - holds integers like 152, 0, and -322\n",
    "* `float` - holds numbers with decimal points like 3.123, 4.0, 1e-2, and -5.1111\n",
    "* `varchar(N)` - holds string of up to N characters. i.e. `varchar(8)` can hold up to 8 characters string like `\"applepie\"` but not `\"chocolate\"`\n",
    "* `ENUM(\"value1\", \"value2\", ...)` - the field content must be one of the listed values. For example, if `ENUM(\"red\", \"blue\", \"green\")`, the value must be `\"red\"`, `\"blue\"`, or `\"green\"`\n",
    "* `date` - holds date value in the format of \"YYYY-MM-DD\". For example, `\"2018-02-28\"` and `\"1988-11-19\"`\n",
    "* `datetime` - holds date and time in the format of \"YYYY-MM-DD hh:mm:ss\". For example, `\"2018-02-01 15:32:10\"` for year 2018, Feb 01 at 3:32pm 10 seconds.\n",
    "* `blob` and `longblob` - holds complex data structure such as NumPy arrays."
   ]
  },
  {
   "cell_type": "markdown",
   "metadata": {},
   "source": [
    "## Submission"
   ]
  },
  {
   "cell_type": "markdown",
   "metadata": {},
   "source": [
    "Have one person from your team submit a Jupyter notebook containing all the table class definitions into the `public` folder found at the top of the Jupyter Hub environment."
   ]
  },
  {
   "cell_type": "markdown",
   "metadata": {},
   "source": [
    "# Project scenario"
   ]
  },
  {
   "cell_type": "markdown",
   "metadata": {},
   "source": [
    "The Gonzales lab is studying the behavior of different kinds of cells in two midbrain nuclei by slice physiology (patching) and subsequent morphological characterization of different cell types. Slices for patching are cut from juvenile or adult mice, and single or multiple intracellular membrane potential traces are recorded in a special bath media. Previous studies have shown that in some cells in these midbrain nuclei, this media elicits low tonic spontaneous activity and in other cells it cause vigorous phasic bursting. After patching is completed, the slices are fixed and images of each of the slices are collected. Patched cells are identified and manually segmented, and from this manual segmentation the size of the soma is computed. An automated algorithm processes all the ephys traces and classifies cells as “bursting” or “tonic”."
   ]
  },
  {
   "cell_type": "markdown",
   "metadata": {},
   "source": [
    "## Hypothesis"
   ]
  },
  {
   "cell_type": "markdown",
   "metadata": {},
   "source": [
    "The hypothesis is that in juvenile mice,bursting cells and tonic cells in both nuclei A and B have different somatic sizes, but that in adult mice, somatic size is uniform across nuclei and cell types."
   ]
  },
  {
   "cell_type": "markdown",
   "metadata": {},
   "source": [
    "## Entities and attributes"
   ]
  },
  {
   "cell_type": "code",
   "execution_count": 42,
   "metadata": {},
   "outputs": [],
   "source": [
    "import datajoint as dj"
   ]
  },
  {
   "cell_type": "code",
   "execution_count": 43,
   "metadata": {},
   "outputs": [],
   "source": [
    "username = dj.config['database.user'] # using username information from database config\n",
    "schema = dj.schema('{}_gonzalez_lab'.format(username))"
   ]
  },
  {
   "cell_type": "markdown",
   "metadata": {},
   "source": [
    "Mouse\n",
    "* Mouse ID\n",
    "* Mouse Sex\n",
    "* Mouse DOB"
   ]
  },
  {
   "cell_type": "code",
   "execution_count": 44,
   "metadata": {},
   "outputs": [],
   "source": [
    "@schema\n",
    "class Mouse(dj.Manual):\n",
    "    definition = \"\"\"\n",
    "    mouse_id: int   # Unique animal id\n",
    "    ---\n",
    "    sex: ENUM(\"M\", \"F\", \"unknown\")\n",
    "    dob: date   # date of birth\n",
    "    \"\"\""
   ]
  },
  {
   "cell_type": "markdown",
   "metadata": {},
   "source": [
    "Slice\n",
    "* Mouse ID\n",
    "* Slice number\n",
    "* Slice date\n",
    "* Slice location (Anterior/Posterior)"
   ]
  },
  {
   "cell_type": "code",
   "execution_count": 31,
   "metadata": {},
   "outputs": [],
   "source": [
    "@schema\n",
    "class Slice(dj.Manual):\n",
    "    definition = \"\"\"\n",
    "    -> Mouse\n",
    "    slice:  int    # unique slice index per mous\n",
    "    ---\n",
    "    slice_date: date    # date the brain was sliced\n",
    "    loc : float # anterior / posterior location of slice relative to bregma\n",
    "    \"\"\""
   ]
  },
  {
   "cell_type": "markdown",
   "metadata": {},
   "source": [
    "PatchedCell\n",
    "* Mouse ID\n",
    "* Slice number\n",
    "* Cell index\n",
    "* Cell location (“Nucleus A”, “Nucleus B”, “Unknown”)\n",
    "* Time elapsed between slicing and recording\n",
    "* Filename of recording"
   ]
  },
  {
   "cell_type": "code",
   "execution_count": 32,
   "metadata": {},
   "outputs": [],
   "source": [
    "@schema\n",
    "class PatchedCell(dj.Manual):\n",
    "    definition=\"\"\"\n",
    "    -> Slice\n",
    "    cell_idx: int   # unique index of cell per slice\n",
    "    ---\n",
    "    cell_brain_area:  ENUM(\"A\", \"B\", \"unknown\")    # area identity of patched cell\n",
    "    post_slice_time: int      # approximate length of time elapsed between slicing and recording in minutes\n",
    "    cell_filename:  varchar(128)   # full path to recorded ephys file\n",
    "    \"\"\""
   ]
  },
  {
   "cell_type": "markdown",
   "metadata": {},
   "source": [
    "EphysTrace\n",
    "* Mouse ID\n",
    "* Slice number\n",
    "* Cell index\n",
    "* Recording index\n",
    "* Trace length\n",
    "* Trace scale \n",
    "* Raw Trace"
   ]
  },
  {
   "cell_type": "code",
   "execution_count": 33,
   "metadata": {},
   "outputs": [],
   "source": [
    "@schema\n",
    "class EphysTrace(dj.Imported):\n",
    "    definition = \"\"\"\n",
    "    -> PatchedCell\n",
    "    recording_idx : int      # unique index of the recording per cell\n",
    "    -----\n",
    "    trace_length : float     # length of recording in seconds\n",
    "    trace_scale : float      # conversion factor raw value -> mV\n",
    "    trace : longblob         # raw membrane potential trace\n",
    "    \"\"\""
   ]
  },
  {
   "cell_type": "markdown",
   "metadata": {},
   "source": [
    "SliceImage\n",
    "* Mouse ID\n",
    "* Slice number\n",
    "* Image index\n",
    "* Pixel dimensions\n",
    "* Physical dimensions (microns)\n",
    "* Image"
   ]
  },
  {
   "cell_type": "code",
   "execution_count": 34,
   "metadata": {},
   "outputs": [],
   "source": [
    "@schema\n",
    "class SliceImage(dj.Manual):\n",
    "    definition = \"\"\"\n",
    "    # Image of a slice captured from custom imaging software\n",
    "    -> Slice\n",
    "    image_idx : int # unique index for each image which may contain one or many cells\n",
    "    -----\n",
    "    pxl_width : int # pixel width of image\n",
    "    pxl_height : int # pixel height of image\n",
    "    um_width : float # width field of view in microns\n",
    "    um_height : float # height field of view in microns\n",
    "    image : longblob # image of slice\n",
    "    \"\"\""
   ]
  },
  {
   "cell_type": "markdown",
   "metadata": {},
   "source": [
    "SegmentedSoma\n",
    "* Mouse ID\n",
    "* Slice number\n",
    "* Cell index\n",
    "* Image index\n",
    "* Segmentation mask\n",
    "* Area of soma in microns^2"
   ]
  },
  {
   "cell_type": "code",
   "execution_count": 35,
   "metadata": {},
   "outputs": [],
   "source": [
    "@schema\n",
    "class SegmentedSoma(dj.Computed):\n",
    "    definition = \"\"\"\n",
    "    -> SliceImage\n",
    "    -> PatchedCell\n",
    "    ---\n",
    "    mask: blob   # list of pixel indices corresponding to the segmented cell\n",
    "    soma_size : float # size of soma in microns^2\n",
    "    \"\"\""
   ]
  },
  {
   "cell_type": "markdown",
   "metadata": {},
   "source": [
    "EphysType\n",
    "* Mouse ID\n",
    "* Slice number\n",
    "* Cell index\n",
    "* Ephys type (“Tonic”, “Bursting”, “Ambiguous”)"
   ]
  },
  {
   "cell_type": "code",
   "execution_count": 36,
   "metadata": {},
   "outputs": [],
   "source": [
    "@schema\n",
    "class EphysType(dj.Computed):\n",
    "    definition = \"\"\"\n",
    "    -> PatchedCell\n",
    "    -----\n",
    "    ephys_type : ENUM(\"tonic\",\"burst\",\"ambiguous\") # class of cell based on ephys trace\n",
    "    \"\"\""
   ]
  },
  {
   "cell_type": "markdown",
   "metadata": {},
   "source": [
    "Let's take a look at our complete data pipeline."
   ]
  },
  {
   "cell_type": "code",
   "execution_count": 37,
   "metadata": {},
   "outputs": [
    {
     "data": {
      "image/svg+xml": [
       "<svg height=\"256pt\" viewBox=\"0.00 0.00 324.50 256.00\" width=\"325pt\" xmlns=\"http://www.w3.org/2000/svg\" xmlns:xlink=\"http://www.w3.org/1999/xlink\">\n",
       "<g class=\"graph\" id=\"graph0\" transform=\"scale(1 1) rotate(0) translate(4 252)\">\n",
       "<polygon fill=\"white\" points=\"-4,4 -4,-252 320.5,-252 320.5,4 -4,4\" stroke=\"none\"/>\n",
       "<!-- SliceImage -->\n",
       "<g class=\"node\" id=\"node1\"><title>SliceImage</title>\n",
       "<g id=\"a_node1\"><a xlink:title=\"→ Slice\r",
       "image_idx            \r",
       "------------------------------\r",
       "pxl_width            \r",
       "pxl_height           \r",
       "um_width             \r",
       "um_height            \r",
       "image                \r",
       "\">\n",
       "<polygon fill=\"#00ff00\" fill-opacity=\"0.188235\" points=\"98,-106 23,-106 23,-71 98,-71 98,-106\" stroke=\"#00ff00\" stroke-opacity=\"0.188235\"/>\n",
       "<text fill=\"darkgreen\" font-family=\"arial\" font-size=\"12.00\" text-anchor=\"middle\" x=\"60.5\" y=\"-85.4\">SliceImage</text>\n",
       "</a>\n",
       "</g>\n",
       "</g>\n",
       "<!-- SegmentedSoma -->\n",
       "<g class=\"node\" id=\"node7\"><title>SegmentedSoma</title>\n",
       "<g id=\"a_node7\"><a xlink:title=\"→ SliceImage\r",
       "→ PatchedCell\r",
       "------------------------------\r",
       "mask                 \r",
       "soma_size            \r",
       "\">\n",
       "<ellipse cx=\"54.5\" cy=\"-17.5\" fill=\"#ff0000\" fill-opacity=\"0.125490\" rx=\"13\" ry=\"13\" stroke=\"#ff0000\" stroke-opacity=\"0.125490\"/>\n",
       "<text fill=\"#7f0000\" font-family=\"arial\" font-size=\"12.00\" text-anchor=\"middle\" x=\"54.5\" y=\"-14.4\">SegmentedSoma</text>\n",
       "</a>\n",
       "</g>\n",
       "</g>\n",
       "<!-- SliceImage&#45;&gt;SegmentedSoma -->\n",
       "<g class=\"edge\" id=\"edge1\"><title>SliceImage-&gt;SegmentedSoma</title>\n",
       "<path d=\"M59.0476,-70.797C57.9655,-58.3531 56.5135,-41.6554 55.5443,-30.509\" fill=\"none\" stroke=\"#000000\" stroke-opacity=\"0.250980\" stroke-width=\"0.75\"/>\n",
       "</g>\n",
       "<!-- EphysTrace -->\n",
       "<g class=\"node\" id=\"node2\"><title>EphysTrace</title>\n",
       "<g id=\"a_node2\"><a xlink:title=\"→ PatchedCell\r",
       "recording_idx        \r",
       "------------------------------\r",
       "trace_length         \r",
       "trace_scale          : float                        # conversion factor raw value → mV\r",
       "trace                \r",
       "\">\n",
       "<ellipse cx=\"175.5\" cy=\"-17.5\" fill=\"#00007f\" fill-opacity=\"0.250980\" rx=\"49.0013\" ry=\"17.5\" stroke=\"#00007f\" stroke-opacity=\"0.250980\"/>\n",
       "<text fill=\"#00007f\" font-family=\"arial\" font-size=\"12.00\" text-anchor=\"middle\" x=\"175.5\" y=\"-14.4\">EphysTrace</text>\n",
       "</a>\n",
       "</g>\n",
       "</g>\n",
       "<!-- Slice -->\n",
       "<g class=\"node\" id=\"node3\"><title>Slice</title>\n",
       "<g id=\"a_node3\"><a xlink:title=\"→ Mouse\r",
       "slice                \r",
       "------------------------------\r",
       "slice_date           \r",
       "loc                  \r",
       "\">\n",
       "<polygon fill=\"#00ff00\" fill-opacity=\"0.188235\" points=\"130,-177 87,-177 87,-142 130,-142 130,-177\" stroke=\"#00ff00\" stroke-opacity=\"0.188235\"/>\n",
       "<text fill=\"darkgreen\" font-family=\"arial\" font-size=\"12.00\" text-anchor=\"middle\" x=\"108.5\" y=\"-156.4\">Slice</text>\n",
       "</a>\n",
       "</g>\n",
       "</g>\n",
       "<!-- Slice&#45;&gt;SliceImage -->\n",
       "<g class=\"edge\" id=\"edge2\"><title>Slice-&gt;SliceImage</title>\n",
       "<path d=\"M96.8805,-141.797C89.3337,-130.949 79.5379,-116.867 72.0125,-106.049\" fill=\"none\" stroke=\"#000000\" stroke-opacity=\"0.250980\" stroke-width=\"0.75\"/>\n",
       "</g>\n",
       "<!-- PatchedCell -->\n",
       "<g class=\"node\" id=\"node5\"><title>PatchedCell</title>\n",
       "<g id=\"a_node5\"><a xlink:title=\"→ Slice\r",
       "cell_idx             \r",
       "------------------------------\r",
       "cell_brain_area      \r",
       "post_slice_time      \r",
       "cell_filename        \r",
       "\">\n",
       "<polygon fill=\"#00ff00\" fill-opacity=\"0.188235\" points=\"208.5,-106 128.5,-106 128.5,-71 208.5,-71 208.5,-106\" stroke=\"#00ff00\" stroke-opacity=\"0.188235\"/>\n",
       "<text fill=\"darkgreen\" font-family=\"arial\" font-size=\"12.00\" text-anchor=\"middle\" x=\"168.5\" y=\"-85.4\">PatchedCell</text>\n",
       "</a>\n",
       "</g>\n",
       "</g>\n",
       "<!-- Slice&#45;&gt;PatchedCell -->\n",
       "<g class=\"edge\" id=\"edge3\"><title>Slice-&gt;PatchedCell</title>\n",
       "<path d=\"M123.024,-141.797C132.458,-130.949 144.703,-116.867 154.109,-106.049\" fill=\"none\" stroke=\"#000000\" stroke-opacity=\"0.250980\" stroke-width=\"0.75\"/>\n",
       "</g>\n",
       "<!-- EphysType -->\n",
       "<g class=\"node\" id=\"node4\"><title>EphysType</title>\n",
       "<g id=\"a_node4\"><a xlink:title=\"→ PatchedCell\r",
       "------------------------------\r",
       "ephys_type           \r",
       "\">\n",
       "<ellipse cx=\"279.5\" cy=\"-17.5\" fill=\"#ff0000\" fill-opacity=\"0.125490\" rx=\"13\" ry=\"13\" stroke=\"#ff0000\" stroke-opacity=\"0.125490\"/>\n",
       "<text fill=\"#7f0000\" font-family=\"arial\" font-size=\"12.00\" text-anchor=\"middle\" x=\"279.5\" y=\"-14.4\">EphysType</text>\n",
       "</a>\n",
       "</g>\n",
       "</g>\n",
       "<!-- PatchedCell&#45;&gt;EphysTrace -->\n",
       "<g class=\"edge\" id=\"edge4\"><title>PatchedCell-&gt;EphysTrace</title>\n",
       "<path d=\"M170.195,-70.797C171.295,-59.9485 172.724,-45.8669 173.821,-35.0492\" fill=\"none\" stroke=\"#000000\" stroke-opacity=\"0.250980\" stroke-width=\"0.75\"/>\n",
       "</g>\n",
       "<!-- PatchedCell&#45;&gt;EphysType -->\n",
       "<g class=\"edge\" id=\"edge5\"><title>PatchedCell-&gt;EphysType</title>\n",
       "<path d=\"M195.087,-70.9728C218.69,-56.3009 251.971,-35.6123 268.825,-25.1356\" fill=\"none\" stroke=\"#000000\" stroke-opacity=\"0.250980\" stroke-width=\"2\"/>\n",
       "</g>\n",
       "<!-- PatchedCell&#45;&gt;SegmentedSoma -->\n",
       "<g class=\"edge\" id=\"edge6\"><title>PatchedCell-&gt;SegmentedSoma</title>\n",
       "<path d=\"M141.194,-70.9728C116.822,-56.2212 82.4007,-35.3873 65.1824,-24.9657\" fill=\"none\" stroke=\"#000000\" stroke-opacity=\"0.250980\" stroke-width=\"0.75\"/>\n",
       "</g>\n",
       "<!-- Mouse -->\n",
       "<g class=\"node\" id=\"node6\"><title>Mouse</title>\n",
       "<g id=\"a_node6\"><a xlink:title=\"mouse_id             \r",
       "------------------------------\r",
       "sex                  \r",
       "dob                  \r",
       "\">\n",
       "<polygon fill=\"#00ff00\" fill-opacity=\"0.188235\" points=\"134.5,-248 82.5,-248 82.5,-213 134.5,-213 134.5,-248\" stroke=\"#00ff00\" stroke-opacity=\"0.188235\"/>\n",
       "<text fill=\"darkgreen\" font-family=\"arial\" font-size=\"12.00\" text-anchor=\"middle\" x=\"108.5\" y=\"-227.4\">Mouse</text>\n",
       "</a>\n",
       "</g>\n",
       "</g>\n",
       "<!-- Mouse&#45;&gt;Slice -->\n",
       "<g class=\"edge\" id=\"edge7\"><title>Mouse-&gt;Slice</title>\n",
       "<path d=\"M108.5,-212.797C108.5,-201.949 108.5,-187.867 108.5,-177.049\" fill=\"none\" stroke=\"#000000\" stroke-opacity=\"0.250980\" stroke-width=\"0.75\"/>\n",
       "</g>\n",
       "</g>\n",
       "</svg>"
      ],
      "text/plain": [
       "<datajoint.erd.ERD at 0x7f8ebff97470>"
      ]
     },
     "execution_count": 37,
     "metadata": {},
     "output_type": "execute_result"
    }
   ],
   "source": [
    "dj.ERD(schema)"
   ]
  },
  {
   "cell_type": "markdown",
   "metadata": {},
   "source": [
    "# Bonus"
   ]
  },
  {
   "cell_type": "markdown",
   "metadata": {},
   "source": [
    "Can you come up with a query that you would use to fetch information you would need to test the hypothesis?"
   ]
  },
  {
   "cell_type": "markdown",
   "metadata": {},
   "source": [
    "Hypothesis was:\n",
    "> In juvenile mice, bursting cells and tonic cells in both nuclei A and B have different somatic sizes, but that in adult mice, somatic size is uniform across nuclei and cell types.\n",
    "\n",
    "In other words, we expect to see difference in somatic sizes based on three factors: nuclei type (A vs B), cell type (tonic vs burst) and age of the mouse (juvenile vs adult).\n",
    "\n",
    "So let's go ahead and grab these four variables: somatic size, neclei type (area), cell type (ephys type), and age."
   ]
  },
  {
   "cell_type": "code",
   "execution_count": 41,
   "metadata": {},
   "outputs": [],
   "source": [
    "target = PatchedCell * Mouse * Slice * EphysType * SegmentedSoma & \\\n",
    "         'ephys_type in (\"tonic\", \"burst\") and cell_brain_area in (\"A\", \"B\")'\n",
    "\n",
    "selected = target.proj('ephys_type', 'cell_brain_area', 'soma_size', age='DATEDIFF(slice_date, dob)')\n",
    "ephys_type, area, size, age = selected.fetch('ephys_type', 'cell_brain_area', 'soma_size', 'age')"
   ]
  }
 ],
 "metadata": {
  "kernelspec": {
   "display_name": "Python 3",
   "language": "python",
   "name": "python3"
  },
  "language_info": {
   "codemirror_mode": {
    "name": "ipython",
    "version": 3
   },
   "file_extension": ".py",
   "mimetype": "text/x-python",
   "name": "python",
   "nbconvert_exporter": "python",
   "pygments_lexer": "ipython3",
   "version": "3.6.2"
  }
 },
 "nbformat": 4,
 "nbformat_minor": 2
}
